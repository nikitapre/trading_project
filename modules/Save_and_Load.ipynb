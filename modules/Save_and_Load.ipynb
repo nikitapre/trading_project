{
 "cells": [
  {
   "cell_type": "code",
   "execution_count": 4,
   "id": "a537f26c-9f68-4dec-9637-d7ffa1cb79bc",
   "metadata": {},
   "outputs": [],
   "source": [
    "import joblib\n",
    "import os\n",
    "from typing import Dict, Any"
   ]
  },
  {
   "cell_type": "markdown",
   "id": "06fd1821-8889-4bd0-b95d-beef512bbccc",
   "metadata": {},
   "source": [
    "**Load model**"
   ]
  },
  {
   "cell_type": "code",
   "execution_count": 3,
   "id": "bff3b1b1-2f3d-43a3-82ba-cb9fe60e52be",
   "metadata": {},
   "outputs": [],
   "source": [
    "import os\n",
    "import joblib\n",
    "from typing import Dict, Any\n",
    "\n",
    "def load_model_with_threshold(model_name: str) -> Dict[str, Any]:\n",
    "    \"\"\"\n",
    "    Улучшенная версия функции. Автоматически ищет model_exports:\n",
    "    - Сначала проверяет папку рядом с модулем (../model_exports)\n",
    "    - Если нет — пытается найти в текущей директории (старый вариант)\n",
    "    \"\"\"\n",
    "    # Путь к model_exports относительно расположения модуля\n",
    "    module_dir = os.path.dirname(os.path.abspath(__file__))\n",
    "    model_exports_relative = os.path.join(module_dir, \"..\", \"model_exports\")\n",
    "    \n",
    "    # Варианты путей для поиска\n",
    "    possible_paths = [\n",
    "        model_exports_relative,  # ../model_exports (новый вариант)\n",
    "        \"model_exports\"          # Текущая директория (старый вариант)\n",
    "    ]\n",
    "    \n",
    "    # Ищем существующую папку model_exports\n",
    "    for base_path in possible_paths:\n",
    "        filename = f\"{model_name}_with_threshold.pkl\"\n",
    "        filepath = os.path.join(base_path, filename)\n",
    "        \n",
    "        if os.path.exists(filepath):\n",
    "            loaded = joblib.load(filepath)\n",
    "            \n",
    "            # Проверка структуры данных\n",
    "            required_keys = {'model', 'params', 'threshold'}\n",
    "            if not all(key in loaded for key in required_keys):\n",
    "                missing = required_keys - set(loaded.keys())\n",
    "                raise ValueError(\n",
    "                    f\"В файле {filepath} отсутствуют ключи: {missing}\"\n",
    "                )\n",
    "            \n",
    "            print(f\"✅ Модель '{model_name}' загружена из {filepath}\")\n",
    "            return loaded\n",
    "    \n",
    "    # Если ни один путь не сработал\n",
    "    available_models = []\n",
    "    for base_path in possible_paths:\n",
    "        if os.path.exists(base_path):\n",
    "            available_models.extend([\n",
    "                f.replace(\"_with_threshold.pkl\", \"\")\n",
    "                for f in os.listdir(base_path)\n",
    "                if f.endswith('.pkl')\n",
    "            ])\n",
    "    \n",
    "    raise FileNotFoundError(\n",
    "        f\"Файл модели '{model_name}' не найден. Доступные модели:\\n\"\n",
    "        f\"{chr(10).join(sorted(set(available_models)))}\"  # Исправлено: добавлена скобка\n",
    "    )"
   ]
  },
  {
   "cell_type": "markdown",
   "id": "e90a1a1a-a186-4d66-94da-4e6a01517817",
   "metadata": {},
   "source": [
    "**Save model**"
   ]
  },
  {
   "cell_type": "code",
   "execution_count": 15,
   "id": "81732110-f543-4187-adee-bf094acedb0f",
   "metadata": {},
   "outputs": [],
   "source": [
    "import os\n",
    "import joblib\n",
    "from typing import Any, Dict, List\n",
    "def save_model_with_threshold(\n",
    "    model_name: str,\n",
    "    model: Any,\n",
    "    params: Dict[str, Any],\n",
    "    threshold: float,\n",
    "    features: List[str],  # Теперь List определен\n",
    "    compress: int = 3\n",
    ") -> None:\n",
    "    \"\"\"\n",
    "    Сохраняет модель, параметры, порог и названия признаков в папку model_exports с возможностью сжатия.\n",
    "    \n",
    "    Параметры:\n",
    "    ----------\n",
    "    model_name : str\n",
    "        Название модели (без расширения), например 'logreg_model'.\n",
    "    model : Any\n",
    "        Обученная модель.\n",
    "    params : dict\n",
    "        Параметры модели.\n",
    "    threshold : float\n",
    "        Порог классификации.\n",
    "    features : List[str]\n",
    "        Список названий признаков.\n",
    "    compress : int, optional (default=3)\n",
    "        Уровень сжатия (0-9), где 0 - без сжатия, 9 - максимальное сжатие.\n",
    "    \"\"\"\n",
    "    # Создаем папку, если ее нет\n",
    "    os.makedirs('model_exports', exist_ok=True)\n",
    "    \n",
    "    # Формируем имя файла\n",
    "    filename = f\"{model_name}_with_threshold.pkl\"\n",
    "    filepath = os.path.join('model_exports', filename)\n",
    "    \n",
    "    # Подготавливаем данные для сохранения\n",
    "    to_save = {\n",
    "        'model': model,\n",
    "        'params': params,\n",
    "        'threshold': threshold,\n",
    "        'features': features\n",
    "    }\n",
    "    \n",
    "    # Сохраняем с указанным уровнем сжатия\n",
    "    joblib.dump(to_save, filepath, compress=compress)\n",
    "    print(f\"✅ Модель сохранена в {filepath} (сжатие: уровень {compress})\")"
   ]
  },
  {
   "cell_type": "code",
   "execution_count": null,
   "id": "76a1413e-06f0-4356-b014-c16c6a8d8009",
   "metadata": {},
   "outputs": [],
   "source": []
  }
 ],
 "metadata": {
  "jupytext": {
   "formats": "ipynb,py:percent"
  },
  "kernelspec": {
   "display_name": "Python [conda env:base] *",
   "language": "python",
   "name": "conda-base-py"
  },
  "language_info": {
   "codemirror_mode": {
    "name": "ipython",
    "version": 3
   },
   "file_extension": ".py",
   "mimetype": "text/x-python",
   "name": "python",
   "nbconvert_exporter": "python",
   "pygments_lexer": "ipython3",
   "version": "3.12.3"
  }
 },
 "nbformat": 4,
 "nbformat_minor": 5
}
